{
 "cells": [
  {
   "cell_type": "markdown",
   "metadata": {
    "azdata_cell_guid": "c9a57f69-e372-43d2-94fc-ab1a9097069f"
   },
   "source": [
    "# Checkpoint Five: Modeling Data\n",
    "\n",
    "With your visualizations ready to go, the final step in your project is to do some predictive analysis on your dataset. You will be using linear regression for your model. You will not be penalized if your linear regression model does not work out. You just need to build the model and make notes as to the results.\n",
    "\n",
    "Link to my dataset:https://www.kaggle.com/datasets/tysonpo/ice-cream-dataset?resource=download\n",
    "\n",
    "## Prepare Your Dataframe\n",
    "\n",
    "Import any libraries you need and create a dataframe."
   ]
  },
  {
   "cell_type": "code",
   "execution_count": 1,
   "metadata": {
    "azdata_cell_guid": "f9287db4-8af9-4bce-9a54-ffeeee0e045f",
    "scrolled": false
   },
   "outputs": [
    {
     "data": {
      "text/html": [
       "<div>\n",
       "<style scoped>\n",
       "    .dataframe tbody tr th:only-of-type {\n",
       "        vertical-align: middle;\n",
       "    }\n",
       "\n",
       "    .dataframe tbody tr th {\n",
       "        vertical-align: top;\n",
       "    }\n",
       "\n",
       "    .dataframe thead th {\n",
       "        text-align: right;\n",
       "    }\n",
       "</style>\n",
       "<table border=\"1\" class=\"dataframe\">\n",
       "  <thead>\n",
       "    <tr style=\"text-align: right;\">\n",
       "      <th></th>\n",
       "      <th>brand</th>\n",
       "      <th>key</th>\n",
       "      <th>name</th>\n",
       "      <th>subhead</th>\n",
       "      <th>description</th>\n",
       "      <th>rating</th>\n",
       "      <th>rating_count</th>\n",
       "      <th>ingredients</th>\n",
       "    </tr>\n",
       "  </thead>\n",
       "  <tbody>\n",
       "    <tr>\n",
       "      <th>0</th>\n",
       "      <td>bj</td>\n",
       "      <td>0_bj</td>\n",
       "      <td>Salted Caramel Core</td>\n",
       "      <td>Sweet Cream Ice Cream with Blonde Brownies &amp; a...</td>\n",
       "      <td>Find your way to the ultimate ice cream experi...</td>\n",
       "      <td>3.7</td>\n",
       "      <td>208</td>\n",
       "      <td>CREAM, SKIM MILK, LIQUID SUGAR (SUGAR, WATER),...</td>\n",
       "    </tr>\n",
       "    <tr>\n",
       "      <th>1</th>\n",
       "      <td>bj</td>\n",
       "      <td>1_bj</td>\n",
       "      <td>Netflix &amp; Chilll'd™</td>\n",
       "      <td>Peanut Butter Ice Cream with Sweet &amp; Salty Pre...</td>\n",
       "      <td>There’s something for everyone to watch on Net...</td>\n",
       "      <td>4.0</td>\n",
       "      <td>127</td>\n",
       "      <td>CREAM, SKIM MILK, LIQUID SUGAR (SUGAR, WATER),...</td>\n",
       "    </tr>\n",
       "    <tr>\n",
       "      <th>2</th>\n",
       "      <td>bj</td>\n",
       "      <td>2_bj</td>\n",
       "      <td>Chip Happens</td>\n",
       "      <td>A Cold Mess of Chocolate Ice Cream with Fudge ...</td>\n",
       "      <td>Sometimes “chip” happens and everything’s a me...</td>\n",
       "      <td>4.7</td>\n",
       "      <td>130</td>\n",
       "      <td>CREAM, LIQUID SUGAR (SUGAR, WATER), SKIM MILK,...</td>\n",
       "    </tr>\n",
       "    <tr>\n",
       "      <th>3</th>\n",
       "      <td>bj</td>\n",
       "      <td>3_bj</td>\n",
       "      <td>Cannoli</td>\n",
       "      <td>Mascarpone Ice Cream with Fudge-Covered Pastry...</td>\n",
       "      <td>As a Limited Batch that captured the rapture o...</td>\n",
       "      <td>3.6</td>\n",
       "      <td>70</td>\n",
       "      <td>CREAM, SKIM MILK, LIQUID SUGAR (SUGAR, WATER),...</td>\n",
       "    </tr>\n",
       "    <tr>\n",
       "      <th>4</th>\n",
       "      <td>bj</td>\n",
       "      <td>4_bj</td>\n",
       "      <td>Gimme S’more!™</td>\n",
       "      <td>Toasted Marshmallow Ice Cream with Chocolate C...</td>\n",
       "      <td>It’s a gimme: there’s always room for s’more. ...</td>\n",
       "      <td>4.5</td>\n",
       "      <td>281</td>\n",
       "      <td>CREAM, SKIM MILK, WATER, LIQUID SUGAR (SUGAR, ...</td>\n",
       "    </tr>\n",
       "    <tr>\n",
       "      <th>...</th>\n",
       "      <td>...</td>\n",
       "      <td>...</td>\n",
       "      <td>...</td>\n",
       "      <td>...</td>\n",
       "      <td>...</td>\n",
       "      <td>...</td>\n",
       "      <td>...</td>\n",
       "      <td>...</td>\n",
       "    </tr>\n",
       "    <tr>\n",
       "      <th>236</th>\n",
       "      <td>breyers</td>\n",
       "      <td>64_breyers</td>\n",
       "      <td>CINNABON®</td>\n",
       "      <td>NaN</td>\n",
       "      <td>Calling all cinnamon roll lovers! We teamed up...</td>\n",
       "      <td>4.0</td>\n",
       "      <td>28</td>\n",
       "      <td>MILK, CORN SYRUP, SUGAR, BROWN SUGAR, SOYBEAN ...</td>\n",
       "    </tr>\n",
       "    <tr>\n",
       "      <th>237</th>\n",
       "      <td>breyers</td>\n",
       "      <td>65_breyers</td>\n",
       "      <td>CarbSmart™ Caramel Swirl Bar</td>\n",
       "      <td>NaN</td>\n",
       "      <td>Watching your grams of sugar or carbs? Try our...</td>\n",
       "      <td>4.7</td>\n",
       "      <td>18</td>\n",
       "      <td>MILK, WATER, CARAMEL SWIRL, SUGAR, WATER, CORN...</td>\n",
       "    </tr>\n",
       "    <tr>\n",
       "      <th>238</th>\n",
       "      <td>breyers</td>\n",
       "      <td>66_breyers</td>\n",
       "      <td>Layered Dessert S'mores</td>\n",
       "      <td>NaN</td>\n",
       "      <td>Calling all S'mores lovers! Make sure you don'...</td>\n",
       "      <td>2.5</td>\n",
       "      <td>31</td>\n",
       "      <td>MILK, CORN SYRUP, SUGAR, WHEAT FLOUR, BUTTER, ...</td>\n",
       "    </tr>\n",
       "    <tr>\n",
       "      <th>239</th>\n",
       "      <td>breyers</td>\n",
       "      <td>67_breyers</td>\n",
       "      <td>Layered Dessert Peach Cobbler</td>\n",
       "      <td>NaN</td>\n",
       "      <td>Love peach cobbler topped with Breyers®? Then ...</td>\n",
       "      <td>3.2</td>\n",
       "      <td>38</td>\n",
       "      <td>MILK, CORN SYRUP, ENRICHED WHEAT FLOUR, WHEAT ...</td>\n",
       "    </tr>\n",
       "    <tr>\n",
       "      <th>240</th>\n",
       "      <td>breyers</td>\n",
       "      <td>68_breyers</td>\n",
       "      <td>Layered Dessert Brownie Cheesecake</td>\n",
       "      <td>NaN</td>\n",
       "      <td>Love brownie cheesecake? What about Breyers®? ...</td>\n",
       "      <td>2.8</td>\n",
       "      <td>25</td>\n",
       "      <td>MILK, CORN SYRUP, SUGAR, ENRICHED WHEAT FLOUR,...</td>\n",
       "    </tr>\n",
       "  </tbody>\n",
       "</table>\n",
       "<p>241 rows × 8 columns</p>\n",
       "</div>"
      ],
      "text/plain": [
       "       brand         key                                name  \\\n",
       "0         bj        0_bj                 Salted Caramel Core   \n",
       "1         bj        1_bj                 Netflix & Chilll'd™   \n",
       "2         bj        2_bj                        Chip Happens   \n",
       "3         bj        3_bj                             Cannoli   \n",
       "4         bj        4_bj                      Gimme S’more!™   \n",
       "..       ...         ...                                 ...   \n",
       "236  breyers  64_breyers                           CINNABON®   \n",
       "237  breyers  65_breyers        CarbSmart™ Caramel Swirl Bar   \n",
       "238  breyers  66_breyers             Layered Dessert S'mores   \n",
       "239  breyers  67_breyers       Layered Dessert Peach Cobbler   \n",
       "240  breyers  68_breyers  Layered Dessert Brownie Cheesecake   \n",
       "\n",
       "                                               subhead  \\\n",
       "0    Sweet Cream Ice Cream with Blonde Brownies & a...   \n",
       "1    Peanut Butter Ice Cream with Sweet & Salty Pre...   \n",
       "2    A Cold Mess of Chocolate Ice Cream with Fudge ...   \n",
       "3    Mascarpone Ice Cream with Fudge-Covered Pastry...   \n",
       "4    Toasted Marshmallow Ice Cream with Chocolate C...   \n",
       "..                                                 ...   \n",
       "236                                                NaN   \n",
       "237                                                NaN   \n",
       "238                                                NaN   \n",
       "239                                                NaN   \n",
       "240                                                NaN   \n",
       "\n",
       "                                           description  rating  rating_count  \\\n",
       "0    Find your way to the ultimate ice cream experi...     3.7           208   \n",
       "1    There’s something for everyone to watch on Net...     4.0           127   \n",
       "2    Sometimes “chip” happens and everything’s a me...     4.7           130   \n",
       "3    As a Limited Batch that captured the rapture o...     3.6            70   \n",
       "4    It’s a gimme: there’s always room for s’more. ...     4.5           281   \n",
       "..                                                 ...     ...           ...   \n",
       "236  Calling all cinnamon roll lovers! We teamed up...     4.0            28   \n",
       "237  Watching your grams of sugar or carbs? Try our...     4.7            18   \n",
       "238  Calling all S'mores lovers! Make sure you don'...     2.5            31   \n",
       "239  Love peach cobbler topped with Breyers®? Then ...     3.2            38   \n",
       "240  Love brownie cheesecake? What about Breyers®? ...     2.8            25   \n",
       "\n",
       "                                           ingredients  \n",
       "0    CREAM, SKIM MILK, LIQUID SUGAR (SUGAR, WATER),...  \n",
       "1    CREAM, SKIM MILK, LIQUID SUGAR (SUGAR, WATER),...  \n",
       "2    CREAM, LIQUID SUGAR (SUGAR, WATER), SKIM MILK,...  \n",
       "3    CREAM, SKIM MILK, LIQUID SUGAR (SUGAR, WATER),...  \n",
       "4    CREAM, SKIM MILK, WATER, LIQUID SUGAR (SUGAR, ...  \n",
       "..                                                 ...  \n",
       "236  MILK, CORN SYRUP, SUGAR, BROWN SUGAR, SOYBEAN ...  \n",
       "237  MILK, WATER, CARAMEL SWIRL, SUGAR, WATER, CORN...  \n",
       "238  MILK, CORN SYRUP, SUGAR, WHEAT FLOUR, BUTTER, ...  \n",
       "239  MILK, CORN SYRUP, ENRICHED WHEAT FLOUR, WHEAT ...  \n",
       "240  MILK, CORN SYRUP, SUGAR, ENRICHED WHEAT FLOUR,...  \n",
       "\n",
       "[241 rows x 8 columns]"
      ]
     },
     "execution_count": 1,
     "metadata": {},
     "output_type": "execute_result"
    }
   ],
   "source": [
    "import warnings\n",
    "warnings.filterwarnings('ignore')\n",
    "\n",
    "# Import the numpy and pandas package\n",
    "import numpy as np\n",
    "import pandas as pd\n",
    "\n",
    "df_reviews=pd.read_csv('reviews.csv')\n",
    "df=pd.read_csv('products.csv')\n",
    "df\n"
   ]
  },
  {
   "cell_type": "code",
   "execution_count": 5,
   "metadata": {},
   "outputs": [
    {
     "name": "stdout",
     "output_type": "stream",
     "text": [
      "(241, 8)\n"
     ]
    }
   ],
   "source": [
    "print(df.shape)\n"
   ]
  },
  {
   "cell_type": "code",
   "execution_count": 6,
   "metadata": {},
   "outputs": [
    {
     "name": "stdout",
     "output_type": "stream",
     "text": [
      "<class 'pandas.core.frame.DataFrame'>\n",
      "RangeIndex: 241 entries, 0 to 240\n",
      "Data columns (total 8 columns):\n",
      " #   Column        Non-Null Count  Dtype  \n",
      "---  ------        --------------  -----  \n",
      " 0   brand         241 non-null    object \n",
      " 1   key           241 non-null    object \n",
      " 2   name          241 non-null    object \n",
      " 3   subhead       57 non-null     object \n",
      " 4   description   237 non-null    object \n",
      " 5   rating        241 non-null    float64\n",
      " 6   rating_count  241 non-null    int64  \n",
      " 7   ingredients   241 non-null    object \n",
      "dtypes: float64(1), int64(1), object(6)\n",
      "memory usage: 15.2+ KB\n"
     ]
    }
   ],
   "source": [
    "df.info()\n"
   ]
  },
  {
   "cell_type": "code",
   "execution_count": 7,
   "metadata": {},
   "outputs": [
    {
     "data": {
      "text/html": [
       "<div>\n",
       "<style scoped>\n",
       "    .dataframe tbody tr th:only-of-type {\n",
       "        vertical-align: middle;\n",
       "    }\n",
       "\n",
       "    .dataframe tbody tr th {\n",
       "        vertical-align: top;\n",
       "    }\n",
       "\n",
       "    .dataframe thead th {\n",
       "        text-align: right;\n",
       "    }\n",
       "</style>\n",
       "<table border=\"1\" class=\"dataframe\">\n",
       "  <thead>\n",
       "    <tr style=\"text-align: right;\">\n",
       "      <th></th>\n",
       "      <th>rating</th>\n",
       "      <th>rating_count</th>\n",
       "    </tr>\n",
       "  </thead>\n",
       "  <tbody>\n",
       "    <tr>\n",
       "      <th>count</th>\n",
       "      <td>241.000000</td>\n",
       "      <td>241.000000</td>\n",
       "    </tr>\n",
       "    <tr>\n",
       "      <th>mean</th>\n",
       "      <td>4.223237</td>\n",
       "      <td>90.016598</td>\n",
       "    </tr>\n",
       "    <tr>\n",
       "      <th>std</th>\n",
       "      <td>0.620383</td>\n",
       "      <td>111.349449</td>\n",
       "    </tr>\n",
       "    <tr>\n",
       "      <th>min</th>\n",
       "      <td>1.200000</td>\n",
       "      <td>2.000000</td>\n",
       "    </tr>\n",
       "    <tr>\n",
       "      <th>25%</th>\n",
       "      <td>4.000000</td>\n",
       "      <td>28.000000</td>\n",
       "    </tr>\n",
       "    <tr>\n",
       "      <th>50%</th>\n",
       "      <td>4.400000</td>\n",
       "      <td>59.000000</td>\n",
       "    </tr>\n",
       "    <tr>\n",
       "      <th>75%</th>\n",
       "      <td>4.700000</td>\n",
       "      <td>112.000000</td>\n",
       "    </tr>\n",
       "    <tr>\n",
       "      <th>max</th>\n",
       "      <td>5.000000</td>\n",
       "      <td>983.000000</td>\n",
       "    </tr>\n",
       "  </tbody>\n",
       "</table>\n",
       "</div>"
      ],
      "text/plain": [
       "           rating  rating_count\n",
       "count  241.000000    241.000000\n",
       "mean     4.223237     90.016598\n",
       "std      0.620383    111.349449\n",
       "min      1.200000      2.000000\n",
       "25%      4.000000     28.000000\n",
       "50%      4.400000     59.000000\n",
       "75%      4.700000    112.000000\n",
       "max      5.000000    983.000000"
      ]
     },
     "execution_count": 7,
     "metadata": {},
     "output_type": "execute_result"
    }
   ],
   "source": [
    "df.describe()"
   ]
  },
  {
   "cell_type": "markdown",
   "metadata": {
    "azdata_cell_guid": "d794ffe0-9cd3-4812-bc7d-f75460cf611c"
   },
   "source": [
    "## Find Correlations\n",
    "\n",
    "Use either pairplot or a heatmap or both to find the two variables with the strongest correlation in your dataset."
   ]
  },
  {
   "cell_type": "code",
   "execution_count": 11,
   "metadata": {
    "azdata_cell_guid": "b009376d-9eb1-4cf0-9487-f0ddc3dbc1cd"
   },
   "outputs": [
    {
     "data": {
      "image/png": "[encoded data removed]",
      "text/plain": [
       "<Figure size 400x400 with 1 Axes>"
      ]
     },
     "metadata": {},
     "output_type": "display_data"
    }
   ],
   "source": [
    "import matplotlib.pyplot as plt \n",
    "import seaborn as sns\n",
    "\n",
    "# pairplot to visualize the data for correlation\n",
    "sns.pairplot(df, x_vars=['rating_count'], \n",
    "             y_vars='rating', size=4, aspect=1, kind='scatter')\n",
    "plt.show()"
   ]
  },
  {
   "cell_type": "code",
   "execution_count": 10,
   "metadata": {},
   "outputs": [
    {
     "data": {
      "image/png": "[encoded data removed]",
      "text/plain": [
       "<Figure size 640x480 with 2 Axes>"
      ]
     },
     "metadata": {},
     "output_type": "display_data"
    }
   ],
   "source": [
    "sns.heatmap(df.corr(), cmap=\"YlGnBu\", annot = True)\n",
    "plt.show()"
   ]
  },
  {
   "cell_type": "markdown",
   "metadata": {
    "azdata_cell_guid": "b75b6098-4152-4701-9136-a8f774c8583e"
   },
   "source": [
    "## Create Your Model\n",
    "\n",
    "Use the two columns with the strongest correlation to create and train your model. Make sure to print out the summary and plot the column values and the line produced by the model."
   ]
  },
  {
   "cell_type": "code",
   "execution_count": 14,
   "metadata": {
    "azdata_cell_guid": "05ecd9c7-e4a4-4d5c-b092-3dff597e96a3"
   },
   "outputs": [],
   "source": [
    "\n",
    "X = df['rating_count']\n",
    "y = df['rating']\n"
   ]
  },
  {
   "cell_type": "code",
   "execution_count": 16,
   "metadata": {
    "azdata_cell_guid": "f55fbe86-74b8-44f7-af96-7448e58983d7",
    "tags": []
   },
   "outputs": [],
   "source": [
    "from sklearn.model_selection import train_test_split\n",
    "X_train, X_test, y_train, y_test = train_test_split(X, y, train_size = 0.7, \n",
    "                                                    test_size = 0.3, random_state = 100)"
   ]
  },
  {
   "cell_type": "code",
   "execution_count": 17,
   "metadata": {},
   "outputs": [
    {
     "data": {
      "text/plain": [
       "223    2.4\n",
       "210    2.6\n",
       "88     5.0\n",
       "191    4.1\n",
       "195    2.8\n",
       "      ... \n",
       "87     4.2\n",
       "103    3.8\n",
       "67     2.6\n",
       "24     2.9\n",
       "8      4.3\n",
       "Name: rating, Length: 168, dtype: float64"
      ]
     },
     "execution_count": 17,
     "metadata": {},
     "output_type": "execute_result"
    }
   ],
   "source": [
    "X_train\n",
    "y_train"
   ]
  },
  {
   "cell_type": "code",
   "execution_count": 18,
   "metadata": {},
   "outputs": [],
   "source": [
    "import statsmodels.api as sm\n",
    "\n",
    "# Adding a constant to get an intercept\n",
    "X_train_sm = sm.add_constant(X_train)"
   ]
  },
  {
   "cell_type": "code",
   "execution_count": 19,
   "metadata": {},
   "outputs": [
    {
     "data": {
      "text/plain": [
       "const           4.183750\n",
       "rating_count    0.000338\n",
       "dtype: float64"
      ]
     },
     "execution_count": 19,
     "metadata": {},
     "output_type": "execute_result"
    }
   ],
   "source": [
    "lr = sm.OLS(y_train, X_train_sm).fit()\n",
    "\n",
    "# Printing the parameters\n",
    "lr.params"
   ]
  },
  {
   "cell_type": "code",
   "execution_count": 20,
   "metadata": {},
   "outputs": [
    {
     "data": {
      "text/html": [
       "<table class=\"simpletable\">\n",
       "<caption>OLS Regression Results</caption>\n",
       "<tr>\n",
       "  <th>Dep. Variable:</th>         <td>rating</td>      <th>  R-squared:         </th> <td>   0.005</td>\n",
       "</tr>\n",
       "<tr>\n",
       "  <th>Model:</th>                   <td>OLS</td>       <th>  Adj. R-squared:    </th> <td>  -0.001</td>\n",
       "</tr>\n",
       "<tr>\n",
       "  <th>Method:</th>             <td>Least Squares</td>  <th>  F-statistic:       </th> <td>  0.7984</td>\n",
       "</tr>\n",
       "<tr>\n",
       "  <th>Date:</th>             <td>Fri, 13 Oct 2023</td> <th>  Prob (F-statistic):</th>  <td> 0.373</td> \n",
       "</tr>\n",
       "<tr>\n",
       "  <th>Time:</th>                 <td>17:26:47</td>     <th>  Log-Likelihood:    </th> <td> -157.51</td>\n",
       "</tr>\n",
       "<tr>\n",
       "  <th>No. Observations:</th>      <td>   168</td>      <th>  AIC:               </th> <td>   319.0</td>\n",
       "</tr>\n",
       "<tr>\n",
       "  <th>Df Residuals:</th>          <td>   166</td>      <th>  BIC:               </th> <td>   325.3</td>\n",
       "</tr>\n",
       "<tr>\n",
       "  <th>Df Model:</th>              <td>     1</td>      <th>                     </th>     <td> </td>   \n",
       "</tr>\n",
       "<tr>\n",
       "  <th>Covariance Type:</th>      <td>nonrobust</td>    <th>                     </th>     <td> </td>   \n",
       "</tr>\n",
       "</table>\n",
       "<table class=\"simpletable\">\n",
       "<tr>\n",
       "        <td></td>          <th>coef</th>     <th>std err</th>      <th>t</th>      <th>P>|t|</th>  <th>[0.025</th>    <th>0.975]</th>  \n",
       "</tr>\n",
       "<tr>\n",
       "  <th>const</th>        <td>    4.1837</td> <td>    0.061</td> <td>   68.715</td> <td> 0.000</td> <td>    4.064</td> <td>    4.304</td>\n",
       "</tr>\n",
       "<tr>\n",
       "  <th>rating_count</th> <td>    0.0003</td> <td>    0.000</td> <td>    0.894</td> <td> 0.373</td> <td>   -0.000</td> <td>    0.001</td>\n",
       "</tr>\n",
       "</table>\n",
       "<table class=\"simpletable\">\n",
       "<tr>\n",
       "  <th>Omnibus:</th>       <td>40.713</td> <th>  Durbin-Watson:     </th> <td>   1.934</td>\n",
       "</tr>\n",
       "<tr>\n",
       "  <th>Prob(Omnibus):</th> <td> 0.000</td> <th>  Jarque-Bera (JB):  </th> <td>  62.500</td>\n",
       "</tr>\n",
       "<tr>\n",
       "  <th>Skew:</th>          <td>-1.314</td> <th>  Prob(JB):          </th> <td>2.68e-14</td>\n",
       "</tr>\n",
       "<tr>\n",
       "  <th>Kurtosis:</th>      <td> 4.423</td> <th>  Cond. No.          </th> <td>    204.</td>\n",
       "</tr>\n",
       "</table><br/><br/>Notes:<br/>[1] Standard Errors assume that the covariance matrix of the errors is correctly specified."
      ],
      "text/plain": [
       "<class 'statsmodels.iolib.summary.Summary'>\n",
       "\"\"\"\n",
       "                            OLS Regression Results                            \n",
       "==============================================================================\n",
       "Dep. Variable:                 rating   R-squared:                       0.005\n",
       "Model:                            OLS   Adj. R-squared:                 -0.001\n",
       "Method:                 Least Squares   F-statistic:                    0.7984\n",
       "Date:                Fri, 13 Oct 2023   Prob (F-statistic):              0.373\n",
       "Time:                        17:26:47   Log-Likelihood:                -157.51\n",
       "No. Observations:                 168   AIC:                             319.0\n",
       "Df Residuals:                     166   BIC:                             325.3\n",
       "Df Model:                           1                                         \n",
       "Covariance Type:            nonrobust                                         \n",
       "================================================================================\n",
       "                   coef    std err          t      P>|t|      [0.025      0.975]\n",
       "--------------------------------------------------------------------------------\n",
       "const            4.1837      0.061     68.715      0.000       4.064       4.304\n",
       "rating_count     0.0003      0.000      0.894      0.373      -0.000       0.001\n",
       "==============================================================================\n",
       "Omnibus:                       40.713   Durbin-Watson:                   1.934\n",
       "Prob(Omnibus):                  0.000   Jarque-Bera (JB):               62.500\n",
       "Skew:                          -1.314   Prob(JB):                     2.68e-14\n",
       "Kurtosis:                       4.423   Cond. No.                         204.\n",
       "==============================================================================\n",
       "\n",
       "Notes:\n",
       "[1] Standard Errors assume that the covariance matrix of the errors is correctly specified.\n",
       "\"\"\""
      ]
     },
     "execution_count": 20,
     "metadata": {},
     "output_type": "execute_result"
    }
   ],
   "source": [
    "lr.summary()"
   ]
  },
  {
   "cell_type": "code",
   "execution_count": 25,
   "metadata": {},
   "outputs": [
    {
     "data": {
      "image/png": "[encoded data removed]",
      "text/plain": [
       "<Figure size 640x480 with 1 Axes>"
      ]
     },
     "metadata": {},
     "output_type": "display_data"
    }
   ],
   "source": [
    "plt.scatter(X_train, y_train)\n",
    "# to get simple linear regression line ,equation is y = c + mX       \n",
    "plt.plot(X_train, 4.18 + 0.0003*X_train, 'r')\n",
    "plt.show()"
   ]
  },
  {
   "cell_type": "code",
   "execution_count": null,
   "metadata": {},
   "outputs": [],
   "source": [
    "#We have to make sure that the p-value should always be less for the coefficient to be significant\n",
    "#p value is close to 0"
   ]
  },
  {
   "cell_type": "markdown",
   "metadata": {
    "azdata_cell_guid": "c021f50d-92b2-4359-b3a9-c47f62f0a94f"
   },
   "source": [
    "## Error Terms\n",
    "\n",
    "Finally, plot your error terms!"
   ]
  },
  {
   "cell_type": "code",
   "execution_count": 23,
   "metadata": {
    "azdata_cell_guid": "87480c6c-1bb6-4135-953a-c74ba3da518d"
   },
   "outputs": [],
   "source": [
    "# Predicting y_value using traingn data of X\n",
    "y_train_pred = lr.predict(X_train_sm)\n",
    "\n",
    "# Creating residuals from the y_train data and predicted y_data\n",
    "res = (y_train - y_train_pred)"
   ]
  },
  {
   "cell_type": "code",
   "execution_count": 24,
   "metadata": {
    "scrolled": false
   },
   "outputs": [
    {
     "data": {
      "image/png": "[encoded data removed]",
      "text/plain": [
       "<Figure size 640x480 with 1 Axes>"
      ]
     },
     "metadata": {},
     "output_type": "display_data"
    }
   ],
   "source": [
    "# Plotting the histogram using the residual values\n",
    "fig = plt.figure()\n",
    "sns.distplot(res, bins = 15)\n",
    "plt.title('Error Terms', fontsize = 15)\n",
    "plt.xlabel('y_train - y_train_pred', fontsize = 15)\n",
    "plt.show()"
   ]
  },
  {
   "cell_type": "code",
   "execution_count": 30,
   "metadata": {},
   "outputs": [
    {
     "data": {
      "image/png": "[encoded data removed]",
      "text/plain": [
       "<Figure size 640x480 with 1 Axes>"
      ]
     },
     "metadata": {},
     "output_type": "display_data"
    }
   ],
   "source": [
    "# Looking for any patterns in the residuals\n",
    "plt.scatter(X_train,res)\n",
    "plt.show()"
   ]
  },
  {
   "cell_type": "markdown",
   "metadata": {
    "azdata_cell_guid": "5fc50d24-c873-4801-87f2-a1e518caf424"
   },
   "source": [
    "## Summarize Your Work\n",
    "\n",
    "Make notes of your answers to the questions below.\n",
    "\n",
    "1. What was your R-squared value?   0.005\n",
    "2. Based on your results, do you think a linear regression model was the best type of predictive analysis for your dataset?\n",
    "It was not particularly effective in this case.  The error terms are non-normally distributed, suggests that there are a few unusual data points that must be studied closely to make a better model.\n",
    "3. Was your plot of the error terms a bell curve? Yes ,left skewed one"
   ]
  }
 ],
 "metadata": {
  "kernelspec": {
   "display_name": "Python 3 (ipykernel)",
   "language": "python",
   "name": "python3"
  },
  "language_info": {
   "codemirror_mode": {
    "name": "ipython",
    "version": 3
   },
   "file_extension": ".py",
   "mimetype": "text/x-python",
   "name": "python",
   "nbconvert_exporter": "python",
   "pygments_lexer": "ipython3",
   "version": "3.11.3"
  }
 },
 "nbformat": 4,
 "nbformat_minor": 2
}
